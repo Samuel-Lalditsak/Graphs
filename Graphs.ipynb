{
 "cells": [
  {
   "cell_type": "markdown",
   "metadata": {},
   "source": [
    "### 1. Breadth First Traversal for a Graph"
   ]
  },
  {
   "cell_type": "code",
   "execution_count": 1,
   "metadata": {},
   "outputs": [],
   "source": [
    "class Graph:\n",
    "    def __init__(self):\n",
    "        self.graph = defaultdict(list)\n",
    "\n",
    "    def add_edge(self, u, v):\n",
    "        self.graph[u].append(v)\n",
    "\n",
    "    def BFS(self, start):\n",
    "        visited = [False] * (max(self.graph)+1)\n",
    "        queue = []\n",
    "        queue.append(start)\n",
    "        visited[start] = True\n",
    "\n",
    "        while queue:\n",
    "            node = queue.pop(0)\n",
    "            print(node, end=\" \")\n",
    "\n",
    "            for i in self.graph[node]:\n",
    "                if visited[i] == False:\n",
    "                    queue.append(i)\n",
    "                    visited[i] = True\n",
    "\n",
    "    def BFS_without_visited_list(self, start):\n",
    "        queue = []\n",
    "        queue.append(start)\n",
    "\n",
    "        while queue:\n",
    "            node = queue.pop(0)\n",
    "            print(node, end=\" \")\n",
    "\n",
    "            for i in self.graph[node]:\n",
    "                queue.append(i)\n",
    "\n",
    "    def BFS_without_visited_list_and_without_using_dequeue(self, start):\n",
    "        queue = []\n",
    "        queue.append(start)\n",
    "\n",
    "        while queue:\n",
    "            node = queue.pop(0)\n",
    "            print(node, end=\" \")\n",
    "\n",
    "            queue += self.graph[node]"
   ]
  },
  {
   "cell_type": "markdown",
   "metadata": {},
   "source": [
    "### 2. Depth First Traversal for a Graph"
   ]
  },
  {
   "cell_type": "code",
   "execution_count": 2,
   "metadata": {},
   "outputs": [],
   "source": [
    "class Graph:\n",
    "   def __init__(self, vertices):\n",
    "       self.V = vertices\n",
    "       self.graph = defaultdict(list)\n",
    "\n",
    "   def add_edge(self, u, v):\n",
    "       self.graph[u].append(v)\n",
    "\n",
    "   def DFSUtil(self, v, visited):\n",
    "       visited[v] = True\n",
    "       print(v, end=\" \")\n",
    "\n",
    "       for i in self.graph[v]:\n",
    "           if not visited[i]:\n",
    "               self.DFSUtil(i, visited)\n",
    "\n",
    "   def DFS(self, start):\n",
    "       visited = [False] * self.V\n",
    "       self.DFSUtil(start, visited)"
   ]
  },
  {
   "cell_type": "markdown",
   "metadata": {},
   "source": [
    "### 3. Count the number of nodes at given level in a tree using BFS"
   ]
  },
  {
   "cell_type": "code",
   "execution_count": 3,
   "metadata": {},
   "outputs": [],
   "source": [
    "class Node:\n",
    "    def __init__(self, data):\n",
    "        self.data = data\n",
    "        self.children = []\n",
    "\n",
    "def count_nodes_at_level(root, level):\n",
    "    if not root:\n",
    "        return 0\n",
    "\n",
    "    queue = deque([(root, 1)])\n",
    "    current_level = 1\n",
    "\n",
    "    while queue:\n",
    "        node, node_level = queue.popleft()\n",
    "\n",
    "        if node_level == level:\n",
    "            return current_level\n",
    "\n",
    "        for child in node.children:\n",
    "            queue.append((child, node_level + 1))\n",
    "\n",
    "        if node_level > current_level:\n",
    "            current_level = node_level\n",
    "\n",
    "    return 0"
   ]
  },
  {
   "cell_type": "markdown",
   "metadata": {},
   "source": [
    "### 4. Count number of trees in a forest"
   ]
  },
  {
   "cell_type": "code",
   "execution_count": 4,
   "metadata": {},
   "outputs": [],
   "source": [
    "class Tree:\n",
    "    def __init__(self, root):\n",
    "        self.root = root\n",
    "\n",
    "def count_trees_in_forest(forest):\n",
    "    count = 0\n",
    "    for tree in forest:\n",
    "        if tree.root:\n",
    "            count += 1\n",
    "    return count"
   ]
  },
  {
   "cell_type": "markdown",
   "metadata": {},
   "source": [
    "### 5. Detect Cycle in a Directed Graph"
   ]
  },
  {
   "cell_type": "code",
   "execution_count": 5,
   "metadata": {},
   "outputs": [],
   "source": [
    "class Graph:\n",
    "    def __init__(self, vertices):\n",
    "        self.graph = defaultdict(list)\n",
    "        self.vertices = vertices\n",
    "\n",
    "    def add_edge(self, u, v):\n",
    "        self.graph[u].append(v)\n",
    "\n",
    "    def is_cyclic_util(self, v, visited, rec_stack):\n",
    "        visited.add(v)\n",
    "        rec_stack.add(v)\n",
    "\n",
    "        for neighbor in self.graph[v]:\n",
    "            if neighbor not in visited:\n",
    "                if self.is_cyclic_util(neighbor, visited, rec_stack):\n",
    "                    return True\n",
    "            elif neighbor in rec_stack:\n",
    "                return True\n",
    "\n",
    "        rec_stack.remove(v)\n",
    "        return False\n",
    "\n",
    "    def is_cyclic(self):\n",
    "        visited = set()\n",
    "        rec_stack = set()\n",
    "\n",
    "        for vertex in range(self.vertices):\n",
    "            if vertex not in visited:\n",
    "                if self.is_cyclic_util(vertex, visited, rec_stack):\n",
    "                    return True\n",
    "\n",
    "        return False"
   ]
  },
  {
   "cell_type": "markdown",
   "metadata": {},
   "source": [
    "### Implement n-Queen’s Problem"
   ]
  },
  {
   "cell_type": "code",
   "execution_count": 1,
   "metadata": {},
   "outputs": [],
   "source": [
    "def is_safe(board, row, col):\n",
    "    for i in range(row):\n",
    "        if board[i][col] == 1:\n",
    "            return False\n",
    "    for i, j in zip(range(row, -1, -1), range(col, -1, -1)):\n",
    "        if board[i][j] == 1:\n",
    "            return False\n",
    "    for i, j in zip(range(row, -1, -1), range(col, len(board))):\n",
    "        if board[i][j] == 1:\n",
    "            return False\n",
    "    return True\n",
    "def solve_n_queens(n):\n",
    "    board = [[0 for _ in range(n)] for _ in range(n)]\n",
    "    if not solve_n_queens_util(board, 0):\n",
    "        return []\n",
    "    return board\n",
    "def solve_n_queens_util(board, row):\n",
    "    if row == len(board):\n",
    "        return True\n",
    "    for col in range(len(board)):\n",
    "        if is_safe(board, row, col):\n",
    "            board[row][col] = 1\n",
    "            if solve_n_queens_util(board, row + 1):\n",
    "                return True\n",
    "            board[row][col] = 0\n",
    "    return False\n"
   ]
  }
 ],
 "metadata": {
  "interpreter": {
   "hash": "aee8b7b246df8f9039afb4144a1f6fd8d2ca17a180786b69acc140d282b71a49"
  },
  "kernelspec": {
   "display_name": "Python 3.11.4 64-bit",
   "language": "python",
   "name": "python3"
  },
  "language_info": {
   "codemirror_mode": {
    "name": "ipython",
    "version": 3
   },
   "file_extension": ".py",
   "mimetype": "text/x-python",
   "name": "python",
   "nbconvert_exporter": "python",
   "pygments_lexer": "ipython3",
   "version": "3.11.4"
  },
  "orig_nbformat": 4
 },
 "nbformat": 4,
 "nbformat_minor": 2
}
